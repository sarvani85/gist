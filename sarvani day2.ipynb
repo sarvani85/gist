{
 "cells": [
  {
   "cell_type": "markdown",
   "metadata": {},
   "source": [
    "# Title\n",
    "## Sub Title\n",
    "### Headings\n",
    "#### Sub Headings"
   ]
  },
  {
   "cell_type": "markdown",
   "metadata": {},
   "source": [
    "- games"
   ]
  },
  {
   "cell_type": "markdown",
   "metadata": {},
   "source": [
    "## order list and unorder list\n"
   ]
  },
  {
   "cell_type": "markdown",
   "metadata": {},
   "source": [
    "- outdoor games\n",
    "1. cricket\n",
    "2. hockey\n",
    "3. foot ball\n",
    "- indoor games\n",
    "1. chess\n",
    "2. carroms\n",
    "3. snake & ladder"
   ]
  },
  {
   "cell_type": "markdown",
   "metadata": {},
   "source": [
    "## Tools"
   ]
  },
  {
   "cell_type": "markdown",
   "metadata": {},
   "source": [
    "***\n",
    "1. git\n",
    "2. python\n",
    "3. numpy\n",
    "4. pandas\n",
    "5. matplot lib\n",
    "***"
   ]
  },
  {
   "cell_type": "markdown",
   "metadata": {},
   "source": [
    "***\n",
    "+ data\n",
    "***\n"
   ]
  },
  {
   "cell_type": "markdown",
   "metadata": {},
   "source": [
    "# To highlight particular lines\n",
    "- here writing python program\n",
    "```python\n",
    "a=int(input('enter a number')\n",
    "if a%2==0:\n",
    "      print('a is even number')\n",
    "else:\n",
    "      print('a is odd number')\n",
    "```"
   ]
  },
  {
   "cell_type": "markdown",
   "metadata": {},
   "source": [
    "# To highlight particular lines\n",
    "- here writing python program\n",
    "`python\n",
    "a=int(input('enter a number')\n",
    "if a%2==0:\n",
    "      print('a is even number')\n",
    "else:\n",
    "      print('a is odd number')\n",
    "`"
   ]
  },
  {
   "cell_type": "code",
   "execution_count": null,
   "metadata": {},
   "outputs": [],
   "source": []
  }
 ],
 "metadata": {
  "kernelspec": {
   "display_name": "Python 3",
   "language": "python",
   "name": "python3"
  },
  "language_info": {
   "codemirror_mode": {
    "name": "ipython",
    "version": 3
   },
   "file_extension": ".py",
   "mimetype": "text/x-python",
   "name": "python",
   "nbconvert_exporter": "python",
   "pygments_lexer": "ipython3",
   "version": "3.8.5"
  }
 },
 "nbformat": 4,
 "nbformat_minor": 4
}

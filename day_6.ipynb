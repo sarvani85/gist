{
 "cells": [
  {
   "cell_type": "markdown",
   "metadata": {},
   "source": [
    "## Day_6 Agenda:\n",
    "     - intro about machine learning\n",
    "         - For Data analysis\n",
    "             - numpy\n",
    "             - pandas\n",
    "             - matplotlib\n",
    "             -seaborn\n",
    "          - Types of machine learning techniques\n",
    "              - supervised learning\n",
    "                 - classification\n",
    "                    - SVM(support vector machine)\n",
    "                    - Naive Bayes\n",
    "                    - K Nearest Neighbour\n",
    "                    - Decesion Tree\n",
    "                    - Random Forest\n",
    "                 - regression\n",
    "                    - Linear Regression\n",
    "                    - Polynomial(multi varient)\n",
    "                    - Logistic Regrssion\n",
    "                    - Decision Tree\n",
    "              - unsupervised learnimng\n",
    "                    - Clustering\n",
    "                       - k means\n",
    "                        - k median\n",
    "                        - SOM\n",
    "                        - Hierarchial       \n",
    "              - Reinforcement\n",
    "     \n",
    "     - Framework -Django\n",
    "         - develop basic application\n",
    "         \n",
    "     - Heroku\n",
    "        - Deploying our project into server\n",
    "          - without Db\n",
    "          - with db(protgres sql)"
   ]
  },
  {
   "cell_type": "markdown",
   "metadata": {},
   "source": [
    "## T-Shirt Size Prediction\n"
   ]
  },
  {
   "cell_type": "code",
   "execution_count": 7,
   "metadata": {},
   "outputs": [],
   "source": [
    "import numpy as np\n",
    "import pandas as pd"
   ]
  },
  {
   "cell_type": "code",
   "execution_count": 8,
   "metadata": {},
   "outputs": [
    {
     "name": "stdout",
     "output_type": "stream",
     "text": [
      "    Height  weight  size\n",
      "0      158      58     M\n",
      "1      158      59     M\n",
      "2      180     120   XXl\n",
      "3      158      63     M\n",
      "4      160      59     M\n",
      "5      170      80    XL\n",
      "6      163      60     M\n",
      "7      192     150  XXXL\n",
      "8      165      62     L\n",
      "9      165      63     L\n",
      "10     168      66     L\n",
      "11     150      42     S\n",
      "12     155      48     S\n",
      "13     142      40     S\n",
      "14     185      90   XXL\n",
      "15     170      70    XL\n",
      "16     192     150  XXXL\n",
      "17     160      90    XL\n",
      "18     180      80   XXL\n"
     ]
    }
   ],
   "source": [
    "#get the data from source files\n",
    "data=pd.read_csv('mydata.csv')\n",
    "print(data)"
   ]
  },
  {
   "cell_type": "markdown",
   "metadata": {},
   "source": [
    "## preprocesssing data\n",
    "- data.isnull().sum()\n",
    "- data.fillna(0)\n",
    "- mean=data['weight].mean\n",
    "   - print(mean)\n",
    "   - data.fillna(mean)\n",
    "   - data.bfill()\n",
    "   - data.f\n",
    "- Less Null Values\n",
    "  - data=data.dropna()\n",
    "   - print(data) "
   ]
  },
  {
   "cell_type": "code",
   "execution_count": 9,
   "metadata": {},
   "outputs": [
    {
     "name": "stdout",
     "output_type": "stream",
     "text": [
      "    Height  weight  size\n",
      "0      158      58     M\n",
      "1      158      59     M\n",
      "2      180     120   XXl\n",
      "3      158      63     M\n",
      "4      160      59     M\n",
      "5      170      80    XL\n",
      "6      163      60     M\n",
      "7      192     150  XXXL\n",
      "8      165      62     L\n",
      "9      165      63     L\n",
      "10     168      66     L\n",
      "11     150      42     S\n",
      "12     155      48     S\n",
      "13     142      40     S\n",
      "14     185      90   XXL\n",
      "15     170      70    XL\n",
      "16     192     150  XXXL\n",
      "17     160      90    XL\n",
      "18     180      80   XXL\n"
     ]
    }
   ],
   "source": [
    "data=pd.read_csv('mydata.csv')\n",
    "print(data)"
   ]
  },
  {
   "cell_type": "code",
   "execution_count": 11,
   "metadata": {},
   "outputs": [
    {
     "name": "stdout",
     "output_type": "stream",
     "text": [
      "    weight  Height\n",
      "0       58     158\n",
      "1       59     158\n",
      "2      120     180\n",
      "3       63     158\n",
      "4       59     160\n",
      "5       80     170\n",
      "6       60     163\n",
      "7      150     192\n",
      "8       62     165\n",
      "9       63     165\n",
      "10      66     168\n",
      "11      42     150\n",
      "12      48     155\n",
      "13      40     142\n",
      "14      90     185\n",
      "15      70     170\n",
      "16     150     192\n",
      "17      90     160\n",
      "18      80     180\n"
     ]
    }
   ],
   "source": [
    "#x=Input values(Features)//independent\n",
    "#y=Output values(Target)//dependent\n",
    "x=data[['weight','Height']]\n",
    "print(x)\n"
   ]
  },
  {
   "cell_type": "code",
   "execution_count": 12,
   "metadata": {},
   "outputs": [
    {
     "name": "stdout",
     "output_type": "stream",
     "text": [
      "0        M\n",
      "1        M\n",
      "2      XXl\n",
      "3        M\n",
      "4        M\n",
      "5       XL\n",
      "6        M\n",
      "7     XXXL\n",
      "8        L\n",
      "9        L\n",
      "10       L\n",
      "11       S\n",
      "12       S\n",
      "13       S\n",
      "14     XXL\n",
      "15      XL\n",
      "16    XXXL\n",
      "17      XL\n",
      "18     XXL\n",
      "Name: size, dtype: object\n"
     ]
    }
   ],
   "source": [
    "x=data[['weight','Height']]\n",
    "#print(x)\n",
    "y=data['size']\n",
    "print(y)"
   ]
  },
  {
   "cell_type": "code",
   "execution_count": 14,
   "metadata": {},
   "outputs": [
    {
     "name": "stdout",
     "output_type": "stream",
     "text": [
      "[1 1 6 1 1 3 1 5 0 0 0 2 2 2 4 3 5 3 4]\n"
     ]
    }
   ],
   "source": [
    "x=data[['weight','Height']]\n",
    "#print(x)\n",
    "y=data['size']\n",
    "#print(y)\n",
    "from sklearn.preprocessing import LabelEncoder\n",
    "y_label=LabelEncoder()\n",
    "Y=y_label.fit_transform(y)\n",
    "print(Y)"
   ]
  },
  {
   "cell_type": "code",
   "execution_count": 18,
   "metadata": {},
   "outputs": [
    {
     "name": "stdout",
     "output_type": "stream",
     "text": [
      "    weight  Height\n",
      "6       60     163\n",
      "7      150     192\n",
      "14      90     185\n",
      "11      42     150\n",
      "9       63     165\n",
      "18      80     180\n",
      "17      90     160\n",
      "13      40     142\n",
      "5       80     170\n",
      "0       58     158\n",
      "8       62     165\n",
      "3       63     158\n",
      "10      66     168     weight  Height\n",
      "12      48     155\n",
      "2      120     180\n",
      "1       59     158\n",
      "16     150     192\n",
      "4       59     160\n",
      "15      70     170 [1 5 4 2 0 4 3 2 3 1 0 1 0] [2 6 1 5 1 3]\n"
     ]
    }
   ],
   "source": [
    "## modeling\n",
    "from sklearn.model_selection import train_test_split\n",
    "from sklearn.neighbors import KNeighborsClassifier\n",
    "x_train,x_test,y_train,y_test=train_test_split(x,Y,test_size=0.3,random_state=3)\n",
    "print(x_train,x_test,y_train,y_test)"
   ]
  },
  {
   "cell_type": "code",
   "execution_count": 19,
   "metadata": {},
   "outputs": [
    {
     "name": "stdout",
     "output_type": "stream",
     "text": [
      "    weight  Height\n",
      "12      48     155\n",
      "2      120     180\n",
      "1       59     158\n",
      "16     150     192\n",
      "4       59     160\n",
      "15      70     170\n"
     ]
    }
   ],
   "source": [
    "print(x_test)"
   ]
  },
  {
   "cell_type": "code",
   "execution_count": 20,
   "metadata": {},
   "outputs": [
    {
     "name": "stdout",
     "output_type": "stream",
     "text": [
      "[1 3 1 3 1 0]\n"
     ]
    }
   ],
   "source": [
    "#importing Algorithm and apply to them\n",
    "from sklearn.neighbors import KNeighborsClassifier\n",
    "knn=KNeighborsClassifier(n_neighbors=5)\n",
    "knn.fit(x_train,y_train)\n",
    "print(knn.predict(x_test))"
   ]
  },
  {
   "cell_type": "code",
   "execution_count": 21,
   "metadata": {},
   "outputs": [
    {
     "name": "stdout",
     "output_type": "stream",
     "text": [
      "    weight  Height\n",
      "12      48     155\n",
      "2      120     180\n",
      "1       59     158\n",
      "16     150     192\n",
      "4       59     160\n",
      "15      70     170\n"
     ]
    }
   ],
   "source": [
    "print(x_test)"
   ]
  },
  {
   "cell_type": "code",
   "execution_count": 22,
   "metadata": {},
   "outputs": [
    {
     "data": {
      "text/plain": [
       "array([1])"
      ]
     },
     "execution_count": 22,
     "metadata": {},
     "output_type": "execute_result"
    }
   ],
   "source": [
    "knn.predict([[48,155]])"
   ]
  },
  {
   "cell_type": "code",
   "execution_count": 23,
   "metadata": {},
   "outputs": [
    {
     "data": {
      "text/plain": [
       "array([3])"
      ]
     },
     "execution_count": 23,
     "metadata": {},
     "output_type": "execute_result"
    }
   ],
   "source": [
    "knn.predict([[120,180]])"
   ]
  },
  {
   "cell_type": "code",
   "execution_count": 24,
   "metadata": {},
   "outputs": [
    {
     "name": "stdout",
     "output_type": "stream",
     "text": [
      "33.33333333333333\n"
     ]
    }
   ],
   "source": [
    "from sklearn.metrics import accuracy_score\n",
    "print(accuracy_score(y_test,knn.predict(x_test))*100)"
   ]
  },
  {
   "cell_type": "code",
   "execution_count": null,
   "metadata": {},
   "outputs": [],
   "source": []
  }
 ],
 "metadata": {
  "kernelspec": {
   "display_name": "Python 3",
   "language": "python",
   "name": "python3"
  },
  "language_info": {
   "codemirror_mode": {
    "name": "ipython",
    "version": 3
   },
   "file_extension": ".py",
   "mimetype": "text/x-python",
   "name": "python",
   "nbconvert_exporter": "python",
   "pygments_lexer": "ipython3",
   "version": "3.8.5"
  }
 },
 "nbformat": 4,
 "nbformat_minor": 4
}
